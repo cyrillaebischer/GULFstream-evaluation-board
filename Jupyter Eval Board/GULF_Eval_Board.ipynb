{
 "cells": [
  {
   "cell_type": "code",
   "execution_count": 1,
   "id": "fd36b0c6",
   "metadata": {
    "extensions": {
     "jupyter_dashboards": {
      "version": 1,
      "views": {
       "default_view": {
        "col": 0,
        "height": 2,
        "row": 0,
        "width": 12
       }
      }
     }
    }
   },
   "outputs": [
    {
     "data": {
      "application/javascript": [
       "\n",
       "try {\n",
       "require(['notebook/js/codecell'], function(codecell) {\n",
       "  codecell.CodeCell.options_default.highlight_modes[\n",
       "      'magic_text/x-csrc'] = {'reg':[/^%%microblaze/]};\n",
       "  Jupyter.notebook.events.one('kernel_ready.Kernel', function(){\n",
       "      Jupyter.notebook.get_cells().map(function(cell){\n",
       "          if (cell.cell_type == 'code'){ cell.auto_highlight(); } }) ;\n",
       "  });\n",
       "});\n",
       "} catch (e) {};\n"
      ]
     },
     "metadata": {},
     "output_type": "display_data"
    },
    {
     "data": {
      "application/javascript": [
       "\n",
       "try {\n",
       "require(['notebook/js/codecell'], function(codecell) {\n",
       "  codecell.CodeCell.options_default.highlight_modes[\n",
       "      'magic_text/x-csrc'] = {'reg':[/^%%pybind11/]};\n",
       "  Jupyter.notebook.events.one('kernel_ready.Kernel', function(){\n",
       "      Jupyter.notebook.get_cells().map(function(cell){\n",
       "          if (cell.cell_type == 'code'){ cell.auto_highlight(); } }) ;\n",
       "  });\n",
       "});\n",
       "} catch (e) {};\n"
      ]
     },
     "metadata": {},
     "output_type": "display_data"
    },
    {
     "name": "stdout",
     "output_type": "stream",
     "text": [
      "DAC configured\n"
     ]
    }
   ],
   "source": [
    "from pynq import Overlay\n",
    "import GULF_Eval_Board_function.master_handler as func\n",
    "ol = Overlay(\"GULF_Eval_Board.bit\")\n",
    "spi = func.spi_handler(ol)\n",
    "i2c = func.i2c_handler(ol)\n",
    "data = func.data_handler(ol)\n",
    "gpio = func.gpio_handler(ol)"
   ]
  },
  {
   "cell_type": "code",
   "execution_count": 2,
   "id": "7451b90e",
   "metadata": {},
   "outputs": [],
   "source": [
    "gpio.write_calmode(0)"
   ]
  },
  {
   "cell_type": "code",
   "execution_count": 4,
   "id": "0ef0b676",
   "metadata": {
    "extensions": {
     "jupyter_dashboards": {
      "version": 1,
      "views": {
       "default_view": {
        "hidden": true
       }
      }
     }
    }
   },
   "outputs": [],
   "source": [
    "spi.write_values_ext_Dac()"
   ]
  },
  {
   "cell_type": "code",
   "execution_count": 6,
   "id": "081e48ec",
   "metadata": {
    "collapsed": true,
    "extensions": {
     "jupyter_dashboards": {
      "version": 1,
      "views": {
       "default_view": {
        "col": 0,
        "height": 2,
        "row": 10,
        "width": 12
       }
      }
     }
    }
   },
   "outputs": [
    {
     "ename": "RuntimeError",
     "evalue": "Could not send I2C data",
     "output_type": "error",
     "traceback": [
      "\u001b[0;31m---------------------------------------------------------------------------\u001b[0m",
      "\u001b[0;31mRuntimeError\u001b[0m                              Traceback (most recent call last)",
      "\u001b[0;32m<ipython-input-6-a1b6ecdff065>\u001b[0m in \u001b[0;36m<module>\u001b[0;34m\u001b[0m\n\u001b[1;32m      1\u001b[0m \u001b[0maddress\u001b[0m \u001b[0;34m=\u001b[0m \u001b[0;36m0x12\u001b[0m\u001b[0;34m\u001b[0m\u001b[0;34m\u001b[0m\u001b[0m\n\u001b[1;32m      2\u001b[0m \u001b[0mdata\u001b[0m \u001b[0;34m=\u001b[0m \u001b[0;36m0x10\u001b[0m\u001b[0;34m\u001b[0m\u001b[0;34m\u001b[0m\u001b[0m\n\u001b[0;32m----> 3\u001b[0;31m \u001b[0mi2c\u001b[0m\u001b[0;34m.\u001b[0m\u001b[0mi2c_send\u001b[0m\u001b[0;34m(\u001b[0m\u001b[0maddress\u001b[0m\u001b[0;34m,\u001b[0m \u001b[0mdata\u001b[0m\u001b[0;34m)\u001b[0m\u001b[0;34m\u001b[0m\u001b[0;34m\u001b[0m\u001b[0m\n\u001b[0m",
      "\u001b[0;32m/home/xilinx/jupyter_notebooks/GULF_Eval_Board/GULF_Eval_Board_function/i2c_handler.py\u001b[0m in \u001b[0;36mi2c_send\u001b[0;34m(self, addr, data)\u001b[0m\n\u001b[1;32m      9\u001b[0m     \u001b[0;32mdef\u001b[0m \u001b[0mi2c_send\u001b[0m\u001b[0;34m(\u001b[0m\u001b[0mself\u001b[0m\u001b[0;34m,\u001b[0m \u001b[0maddr\u001b[0m\u001b[0;34m,\u001b[0m \u001b[0mdata\u001b[0m\u001b[0;34m)\u001b[0m\u001b[0;34m:\u001b[0m\u001b[0;34m\u001b[0m\u001b[0;34m\u001b[0m\u001b[0m\n\u001b[1;32m     10\u001b[0m         \u001b[0mbuf\u001b[0m \u001b[0;34m=\u001b[0m \u001b[0;34m[\u001b[0m\u001b[0maddr\u001b[0m\u001b[0;34m,\u001b[0m \u001b[0mdata\u001b[0m\u001b[0;34m,\u001b[0m \u001b[0;36m0\u001b[0m\u001b[0;34m]\u001b[0m\u001b[0;34m\u001b[0m\u001b[0;34m\u001b[0m\u001b[0m\n\u001b[0;32m---> 11\u001b[0;31m         \u001b[0mself\u001b[0m\u001b[0;34m.\u001b[0m\u001b[0mi2c\u001b[0m\u001b[0;34m.\u001b[0m\u001b[0msend\u001b[0m\u001b[0;34m(\u001b[0m\u001b[0mbuf\u001b[0m\u001b[0;34m[\u001b[0m\u001b[0;36m0\u001b[0m\u001b[0;34m]\u001b[0m\u001b[0;34m,\u001b[0m \u001b[0mbuf\u001b[0m\u001b[0;34m,\u001b[0m \u001b[0mlen\u001b[0m\u001b[0;34m(\u001b[0m\u001b[0mbuf\u001b[0m\u001b[0;34m)\u001b[0m\u001b[0;34m,\u001b[0m \u001b[0;36m0\u001b[0m\u001b[0;34m)\u001b[0m\u001b[0;34m\u001b[0m\u001b[0;34m\u001b[0m\u001b[0m\n\u001b[0m\u001b[1;32m     12\u001b[0m \u001b[0;34m\u001b[0m\u001b[0m\n\u001b[1;32m     13\u001b[0m     \u001b[0;32mdef\u001b[0m \u001b[0mi2c_recive\u001b[0m\u001b[0;34m(\u001b[0m\u001b[0mself\u001b[0m\u001b[0;34m)\u001b[0m\u001b[0;34m:\u001b[0m\u001b[0;34m\u001b[0m\u001b[0;34m\u001b[0m\u001b[0m\n",
      "\u001b[0;32m/usr/local/share/pynq-venv/lib/python3.8/site-packages/pynq/lib/iic.py\u001b[0m in \u001b[0;36msend\u001b[0;34m(self, address, data, length, option)\u001b[0m\n\u001b[1;32m    102\u001b[0m             self._virtaddr, address, data, length, option)\n\u001b[1;32m    103\u001b[0m         \u001b[0;32mif\u001b[0m \u001b[0msent\u001b[0m \u001b[0;34m==\u001b[0m \u001b[0;36m0\u001b[0m\u001b[0;34m:\u001b[0m\u001b[0;34m\u001b[0m\u001b[0;34m\u001b[0m\u001b[0m\n\u001b[0;32m--> 104\u001b[0;31m             \u001b[0;32mraise\u001b[0m \u001b[0mRuntimeError\u001b[0m\u001b[0;34m(\u001b[0m\u001b[0;34m\"Could not send I2C data\"\u001b[0m\u001b[0;34m)\u001b[0m\u001b[0;34m\u001b[0m\u001b[0;34m\u001b[0m\u001b[0m\n\u001b[0m\u001b[1;32m    105\u001b[0m         \u001b[0;32mreturn\u001b[0m \u001b[0msent\u001b[0m\u001b[0;34m\u001b[0m\u001b[0;34m\u001b[0m\u001b[0m\n\u001b[1;32m    106\u001b[0m \u001b[0;34m\u001b[0m\u001b[0m\n",
      "\u001b[0;31mRuntimeError\u001b[0m: Could not send I2C data"
     ]
    }
   ],
   "source": [
    "i2c_address = 0x07\n",
    "i2c_data = 0xab\n",
    "i2c.i2c_send(i2c_address, i2c_data)"
   ]
  },
  {
   "cell_type": "code",
   "execution_count": null,
   "id": "c1b7b7a4",
   "metadata": {
    "extensions": {
     "jupyter_dashboards": {
      "version": 1,
      "views": {
       "default_view": {
        "col": 0,
        "height": 2,
        "row": 12,
        "width": 12
       }
      }
     }
    }
   },
   "outputs": [],
   "source": [
    "i2c = i2c.i2c_recive()"
   ]
  },
  {
   "cell_type": "code",
   "execution_count": 4,
   "id": "5323095a",
   "metadata": {
    "extensions": {
     "jupyter_dashboards": {
      "version": 1,
      "views": {
       "default_view": {
        "col": 0,
        "height": 2,
        "row": 16,
        "width": 12
       }
      }
     }
    }
   },
   "outputs": [
    {
     "data": {
      "text/plain": [
       "'0x0'"
      ]
     },
     "execution_count": 4,
     "metadata": {},
     "output_type": "execute_result"
    }
   ],
   "source": [
    "hex(data.get_single_value(0))"
   ]
  },
  {
   "cell_type": "code",
   "execution_count": 3,
   "id": "0708ff6a",
   "metadata": {
    "extensions": {
     "jupyter_dashboards": {
      "version": 1,
      "views": {
       "default_view": {
        "col": 0,
        "height": 2,
        "row": 18,
        "width": 12
       }
      }
     }
    }
   },
   "outputs": [
    {
     "name": "stdout",
     "output_type": "stream",
     "text": [
      "Address: 0     Data: 0x0000000000000000\n",
      "Address: 1     Data: 0x0000000000000000\n",
      "Address: 2     Data: 0x0000000000000000\n",
      "Address: 3     Data: 0x0000000000000000\n",
      "Address: 4     Data: 0x0000000000000000\n",
      "Address: 5     Data: 0x0000000000000000\n",
      "Address: 6     Data: 0x0000000000000000\n",
      "Address: 7     Data: 0x0000000000000000\n",
      "Address: 8     Data: 0x0000000000000000\n",
      "Address: 9     Data: 0x0000000000000000\n",
      "Address: 10    Data: 0x0000000000000000\n",
      "Address: 11    Data: 0x0000000000000000\n",
      "Address: 12    Data: 0x0000000000000000\n",
      "Address: 13    Data: 0x0000000000000000\n",
      "Address: 14    Data: 0x0000000000000000\n",
      "Address: 15    Data: 0x0000000000000000\n",
      "Address: 16    Data: 0x0000000000000000\n",
      "Address: 17    Data: 0x0000000000000000\n",
      "Address: 18    Data: 0x0000000000000000\n",
      "Address: 19    Data: 0x0000000000000000\n",
      "Address: 20    Data: 0x0000000000000000\n",
      "Address: 21    Data: 0x0000000000000000\n",
      "Address: 22    Data: 0x0000000000000000\n",
      "Address: 23    Data: 0x0000000000000000\n",
      "Address: 24    Data: 0x0000000000000000\n",
      "Address: 25    Data: 0x0000000000000000\n",
      "Address: 26    Data: 0x0000000000000000\n",
      "Address: 27    Data: 0x0000000000000000\n",
      "Address: 28    Data: 0x0000000000000000\n",
      "Address: 29    Data: 0x0000000000000000\n",
      "Address: 30    Data: 0x0000000000000000\n",
      "Address: 31    Data: 0x0000000000000000\n",
      "Address: 32    Data: 0x0000000000000000\n",
      "Address: 33    Data: 0x0000000000000000\n",
      "Address: 34    Data: 0x0000000000000000\n",
      "Address: 35    Data: 0x0000000000000000\n",
      "Address: 36    Data: 0x0000000000000000\n",
      "Address: 37    Data: 0x0000000000000000\n",
      "Address: 38    Data: 0x0000000000000000\n",
      "Address: 39    Data: 0x0000000000000000\n",
      "Address: 40    Data: 0x0000000000000000\n",
      "Address: 41    Data: 0x0000000000000000\n",
      "Address: 42    Data: 0x0000000000000000\n",
      "Address: 43    Data: 0x0000000000000000\n",
      "Address: 44    Data: 0x0000000000000000\n",
      "Address: 45    Data: 0x0000000000000000\n",
      "Address: 46    Data: 0x0000000000000000\n",
      "Address: 47    Data: 0x0000000000000000\n",
      "Address: 48    Data: 0x0000000000000000\n",
      "Address: 49    Data: 0x0000000000000000\n",
      "Address: 50    Data: 0x0000000000000000\n",
      "Address: 51    Data: 0x0000000000000000\n",
      "Address: 52    Data: 0x0000000000000000\n",
      "Address: 53    Data: 0x0000000000000000\n",
      "Address: 54    Data: 0x0000000000000000\n",
      "Address: 55    Data: 0x0000000000000000\n",
      "Address: 56    Data: 0x0000000000000000\n",
      "Address: 57    Data: 0x0000000000000000\n",
      "Address: 58    Data: 0x0000000000000000\n",
      "Address: 59    Data: 0x0000000000000000\n",
      "Address: 60    Data: 0x0000000000000000\n",
      "Address: 61    Data: 0x0000000000000000\n",
      "Address: 62    Data: 0x0000000000000000\n",
      "Address: 63    Data: 0x0000000000000000\n",
      "Address: 64    Data: 0x0000000000000000\n",
      "Address: 65    Data: 0x0000000000000000\n",
      "Address: 66    Data: 0x0000000000000000\n",
      "Address: 67    Data: 0x0000000000000000\n",
      "Address: 68    Data: 0x0000000000000000\n",
      "Address: 69    Data: 0x0000000000000000\n",
      "Address: 70    Data: 0x0000000000000000\n",
      "Address: 71    Data: 0x0000000000000000\n",
      "Address: 72    Data: 0x0000000000000000\n",
      "Address: 73    Data: 0x0000000000000000\n",
      "Address: 74    Data: 0x0000000000000000\n",
      "Address: 75    Data: 0x0000000000000000\n",
      "Address: 76    Data: 0x0000000000000000\n",
      "Address: 77    Data: 0x0000000000000000\n",
      "Address: 78    Data: 0x0000000000000000\n",
      "Address: 79    Data: 0x0000000000000000\n",
      "Address: 80    Data: 0x0000000000000000\n",
      "Address: 81    Data: 0x0000000000000000\n",
      "Address: 82    Data: 0x0000000000000000\n",
      "Address: 83    Data: 0x0000000000000000\n",
      "Address: 84    Data: 0x0000000000000000\n",
      "Address: 85    Data: 0x0000000000000000\n",
      "Address: 86    Data: 0x0000000000000000\n",
      "Address: 87    Data: 0x0000000000000000\n",
      "Address: 88    Data: 0x0000000000000000\n",
      "Address: 89    Data: 0x0000000000000000\n",
      "Address: 90    Data: 0x0000000000000000\n",
      "Address: 91    Data: 0x0000000000000000\n",
      "Address: 92    Data: 0x0000000000000000\n",
      "Address: 93    Data: 0x0000000000000000\n",
      "Address: 94    Data: 0x0000000000000000\n",
      "Address: 95    Data: 0x0000000000000000\n",
      "Address: 96    Data: 0x0000000000000000\n",
      "Address: 97    Data: 0x0000000000000000\n",
      "Address: 98    Data: 0x0000000000000000\n",
      "Address: 99    Data: 0x0000000000000000\n",
      "Address: 100   Data: 0x0000000000000000\n",
      "Address: 101   Data: 0x0000000000000000\n",
      "Address: 102   Data: 0x0000000000000000\n",
      "Address: 103   Data: 0x0000000000000000\n",
      "Address: 104   Data: 0x0000000000000000\n",
      "Address: 105   Data: 0x0000000000000000\n",
      "Address: 106   Data: 0x0000000000000000\n",
      "Address: 107   Data: 0x0000000000000000\n",
      "Address: 108   Data: 0x0000000000000000\n",
      "Address: 109   Data: 0x0000000000000000\n",
      "Address: 110   Data: 0x0000000000000000\n",
      "Address: 111   Data: 0x0000000000000000\n",
      "Address: 112   Data: 0x0000000000000000\n",
      "Address: 113   Data: 0x0000000000000000\n",
      "Address: 114   Data: 0x0000000000000000\n",
      "Address: 115   Data: 0x0000000000000000\n",
      "Address: 116   Data: 0x0000000000000000\n",
      "Address: 117   Data: 0x0000000000000000\n",
      "Address: 118   Data: 0x0000000000000000\n",
      "Address: 119   Data: 0x0000000000000000\n",
      "Address: 120   Data: 0x0000000000000000\n",
      "Address: 121   Data: 0x0000000000000000\n",
      "Address: 122   Data: 0x0000000000000000\n",
      "Address: 123   Data: 0x0000000000000000\n",
      "Address: 124   Data: 0x0000000000000000\n",
      "Address: 125   Data: 0x0000000000000000\n",
      "Address: 126   Data: 0x0000000000000000\n",
      "Address: 127   Data: 0x0000000000000000\n"
     ]
    }
   ],
   "source": [
    "data.print_multiple_value(0, 128)"
   ]
  },
  {
   "cell_type": "code",
   "execution_count": 7,
   "id": "87ffa211",
   "metadata": {},
   "outputs": [
    {
     "name": "stdout",
     "output_type": "stream",
     "text": [
      "Receive Code Error\n"
     ]
    }
   ],
   "source": [
    "data.get_error()"
   ]
  },
  {
   "cell_type": "code",
   "execution_count": 7,
   "id": "b269cd02",
   "metadata": {},
   "outputs": [],
   "source": [
    "data.save_hit_all()"
   ]
  },
  {
   "cell_type": "code",
   "execution_count": 7,
   "id": "1437702e",
   "metadata": {},
   "outputs": [],
   "source": [
    "data.save_hit_range(5,10)"
   ]
  },
  {
   "cell_type": "code",
   "execution_count": 6,
   "id": "81508bae",
   "metadata": {},
   "outputs": [],
   "source": [
    "data.del_file_content(\"conv_data.txt\")"
   ]
  },
  {
   "cell_type": "code",
   "execution_count": 5,
   "id": "64d1a190",
   "metadata": {},
   "outputs": [],
   "source": [
    "data.del_file_content(\"hitdata.txt\")"
   ]
  },
  {
   "cell_type": "code",
   "execution_count": 19,
   "id": "153fabb6-c8cb-4681-887b-72519c958d85",
   "metadata": {
    "scrolled": true
   },
   "outputs": [
    {
     "name": "stdout",
     "output_type": "stream",
     "text": [
      "Channel  Coarse Time  Fine Time  Data Payload  Rollover  Coarse Time with Rollover\n",
      "0        32           20         45            0         32\n",
      "1        45           10         34            0         45\n",
      "2        57           1          40            0         57\n",
      "3        70           23         40            0         70\n",
      "4        83           13         32            0         83\n",
      "0        77           8          40            1         65613\n",
      "5        95           4          38            1         65631\n",
      "6        108          26         38            1         65644\n",
      "0        32           20         45            0         32\n",
      "1        45           10         34            0         45\n",
      "2        57           1          40            0         57\n",
      "3        70           23         40            0         70\n",
      "4        83           13         32            0         83\n",
      "0        77           8          40            1         65613\n",
      "5        95           4          38            1         65631\n",
      "6        108          26         38            1         65644\n",
      "3        19           30         34            0         19\n",
      "4        19           31         46            0         19\n",
      "5        19           31         38            0         19\n",
      "6        19           0          40            0         19\n",
      "7        19           0          34            0         19\n",
      "0        19           29         38            0         19\n",
      "1        19           30         50            0         19\n",
      "2        19           30         42            0         19\n",
      "3        19           29         48            0         19\n",
      "4        19           29         48            0         19\n",
      "5        19           29         49            0         19\n",
      "6        19           29         49            0         19\n",
      "7        19           29         46            0         19\n",
      "0        19           28         34            0         19\n",
      "1        19           28         32            0         19\n",
      "2        19           28         32            0         19\n",
      "3        19           29         48            0         19\n",
      "4        19           29         48            0         19\n",
      "5        19           29         49            0         19\n",
      "6        19           29         46            0         19\n",
      "7        19           29         47            0         19\n",
      "0        19           28         32            0         19\n",
      "1        19           28         32            0         19\n",
      "2        19           29         48            0         19\n",
      "3        19           28         32            0         19\n",
      "4        19           28         32            0         19\n",
      "5        19           28         32            0         19\n",
      "6        19           28         32            0         19\n",
      "7        19           28         32            0         19\n",
      "0        19           28         32            0         19\n",
      "1        19           28         32            0         19\n",
      "2        19           28         32            0         19\n",
      "\n"
     ]
    }
   ],
   "source": [
    "data.print_file_content(\"conv_data.txt\")"
   ]
  },
  {
   "cell_type": "code",
   "execution_count": 17,
   "id": "425f1260",
   "metadata": {
    "scrolled": true
   },
   "outputs": [
    {
     "name": "stdout",
     "output_type": "stream",
     "text": [
      "000000008002052d\n",
      "000000009002d2a2\n",
      "00000000a0039068\n",
      "00000000b00465e8\n",
      "00000000c0053360\n",
      "000000018004d228\n",
      "00000001d005f126\n",
      "00000001e006c6a6\n",
      "000000008002052d\n",
      "000000009002d2a2\n",
      "00000000a0039068\n",
      "00000000b00465e8\n",
      "00000000c0053360\n",
      "000000018004d228\n",
      "00000001d005f126\n",
      "00000001e006c6a6\n",
      "00000000b00137a2\n",
      "00000000c00137ee\n",
      "00000000d00137e6\n",
      "00000000e0013028\n",
      "00000000f0013022\n",
      "0000000080013766\n",
      "00000000900137b2\n",
      "00000000a00137aa\n",
      "00000000b0013770\n",
      "00000000c0013770\n",
      "00000000d0013771\n",
      "00000000e0013771\n",
      "00000000f001376e\n",
      "0000000080013722\n",
      "0000000090013720\n",
      "00000000a0013720\n",
      "00000000b0013770\n",
      "00000000c0013770\n",
      "00000000d0013771\n",
      "00000000e001376e\n",
      "00000000f001376f\n",
      "0000000080013720\n",
      "0000000090013720\n",
      "00000000a0013770\n",
      "00000000b0013720\n",
      "00000000c0013720\n",
      "00000000d0013720\n",
      "00000000e0013720\n",
      "00000000f0013720\n",
      "0000000080013720\n",
      "0000000090013720\n",
      "00000000a0013720\n",
      "\n"
     ]
    }
   ],
   "source": [
    "data.print_file_content(\"hitdata.txt\")"
   ]
  },
  {
   "cell_type": "code",
   "execution_count": 18,
   "id": "0bbe5002",
   "metadata": {},
   "outputs": [],
   "source": [
    "data.conv_file_val()"
   ]
  },
  {
   "cell_type": "code",
   "execution_count": 7,
   "id": "ee47587b",
   "metadata": {},
   "outputs": [
    {
     "data": {
      "image/png": "[encoded data removed]",
      "text/plain": [
       "<Figure size 900x540 with 1 Axes>"
      ]
     },
     "metadata": {
      "needs_background": "light"
     },
     "output_type": "display_data"
    }
   ],
   "source": [
    "data.plot_hit_per_channel()"
   ]
  },
  {
   "cell_type": "code",
   "execution_count": 3,
   "id": "1351b7d2",
   "metadata": {
    "collapsed": true
   },
   "outputs": [
    {
     "data": {
      "image/png": "[encoded data removed]",
      "text/plain": [
       "<Figure size 432x288 with 1 Axes>"
      ]
     },
     "metadata": {
      "needs_background": "light"
     },
     "output_type": "display_data"
    },
    {
     "name": "stdout",
     "output_type": "stream",
     "text": [
      "[2, 1, 1, 1, 1, 1, 1, 0]\n"
     ]
    }
   ],
   "source": [
    "data.plot_hit_per_channel_from_memory()"
   ]
  },
  {
   "cell_type": "code",
   "execution_count": 9,
   "id": "f0c54b26",
   "metadata": {},
   "outputs": [
    {
     "data": {
      "image/png": "[encoded data removed]",
      "text/plain": [
       "<Figure size 900x540 with 1 Axes>"
      ]
     },
     "metadata": {
      "needs_background": "light"
     },
     "output_type": "display_data"
    }
   ],
   "source": [
    "data.plot_hit_per_time(0, 150)"
   ]
  },
  {
   "cell_type": "code",
   "execution_count": null,
   "id": "a43b7340",
   "metadata": {},
   "outputs": [],
   "source": [
    "data.plot_both_from_memory(0,150)"
   ]
  }
 ],
 "metadata": {
  "extensions": {
   "jupyter_dashboards": {
    "activeView": "default_view",
    "version": 1,
    "views": {
     "default_view": {
      "cellMargin": 10,
      "defaultCellHeight": 40,
      "maxColumns": 12,
      "name": "active_view",
      "type": "grid"
     }
    }
   }
  },
  "kernelspec": {
   "display_name": "Python 3",
   "language": "python",
   "name": "python3"
  },
  "language_info": {
   "codemirror_mode": {
    "name": "ipython",
    "version": 3
   },
   "file_extension": ".py",
   "mimetype": "text/x-python",
   "name": "python",
   "nbconvert_exporter": "python",
   "pygments_lexer": "ipython3",
   "version": "3.8.2"
  }
 },
 "nbformat": 4,
 "nbformat_minor": 5
}
